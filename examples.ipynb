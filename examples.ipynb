{
 "cells": [
  {
   "cell_type": "code",
   "execution_count": 1,
   "metadata": {},
   "outputs": [],
   "source": [
    "import numpy as np\n",
    "import NSOPDE\n",
    "import inspect\n",
    "import time"
   ]
  },
  {
   "cell_type": "code",
   "execution_count": 2,
   "metadata": {},
   "outputs": [],
   "source": [
    "# function\n",
    "def h(x,y):\n",
    "    return -2*x*y*y\n",
    "\n",
    "# partial derivative wrt y\n",
    "def dhy(x,y):\n",
    "    return -4*x*y\n",
    "\n",
    "# partial derivative wrt x\n",
    "def dhx(x,y):\n",
    "    return -2*y*y\n",
    "    "
   ]
  },
  {
   "cell_type": "code",
   "execution_count": null,
   "metadata": {},
   "outputs": [],
   "source": [
    "s=NSOPDE.ECM(20,F=h,y_init=1)"
   ]
  },
  {
   "cell_type": "code",
   "execution_count": 6,
   "metadata": {},
   "outputs": [
    {
     "data": {
      "text/plain": [
       "['Adam_Bashford',\n",
       " 'Adam_Moulton',\n",
       " 'Adams_Bashforth_Moulton_PC',\n",
       " 'Classical_order3',\n",
       " 'Classical_order4',\n",
       " 'EBM',\n",
       " 'ECM',\n",
       " 'EFM',\n",
       " 'Euler_PC',\n",
       " 'General_Explicit',\n",
       " 'General_order2',\n",
       " 'Hune',\n",
       " 'Kutta_order4',\n",
       " 'MEM',\n",
       " 'Milne_PC',\n",
       " 'Milne_Simpson',\n",
       " 'NR',\n",
       " 'NR_solver',\n",
       " 'NRy',\n",
       " 'Nearly_optimal',\n",
       " 'Nystrom',\n",
       " 'RK',\n",
       " 'Thomas_algorithm',\n",
       " '__builtins__',\n",
       " '__cached__',\n",
       " '__doc__',\n",
       " '__file__',\n",
       " '__loader__',\n",
       " '__name__',\n",
       " '__package__',\n",
       " '__spec__',\n",
       " 'backward_diff',\n",
       " 'binomial_coeff',\n",
       " 'factorial',\n",
       " 'forward_diff',\n",
       " 'implicit_rk2',\n",
       " 'implicit_rk4',\n",
       " 'np']"
      ]
     },
     "execution_count": 6,
     "metadata": {},
     "output_type": "execute_result"
    }
   ],
   "source": [
    "# list of available functions & moduels\n",
    "dir(NSOPDE)"
   ]
  },
  {
   "cell_type": "code",
   "execution_count": 3,
   "metadata": {},
   "outputs": [
    {
     "name": "stdout",
     "output_type": "stream",
     "text": [
      "Help on function General_Explicit in module NSOPDE:\n",
      "\n",
      "General_Explicit(order, W, A, n, F, y_init, limit=[0, 1], C=None)\n",
      "    General Explicit Ranga Kutta method for solution of \n",
      "    y' = F(x,y)\n",
      "    \n",
      "    order : order of method say m\n",
      "    W = weight numpy Array for, y_n+1 = y_n + ( w1*k1 + w2*k2.....+ wm*km ), here W = [w1,w2..,wm]\n",
      "    A = weight numpy matrix Matrix for, ki = h*F(x_n + ci*h,y_n + ( a_{i,i}*k1 + a_{i,2}*k2 + ...+ a_{i,i-1}*k_i-1 )) for i = 0...m, h is step size = (b-a/n)\n",
      "        note values beyound i-1 are all supposed to be zero for Explicit method\n",
      "    n : number of steps\n",
      "    F : F(x,y) takes 2 input as x and y then outputs the value for this equation\n",
      "    y_init = initial value at point x=a\n",
      "    alpha : alpha parameter from range [0,1]\n",
      "    limit : [a,b], region on x to solve the equation for\n",
      "    C : weight numpy Array [c1,c2...c], usually ci = a_{i,1}+ a_{i,2}+..+  a_{i,i-1}\n",
      "        this can be changed with help of this input\n",
      "\n"
     ]
    }
   ],
   "source": [
    "help(NSOPDE.General_Explicit)"
   ]
  },
  {
   "cell_type": "code",
   "execution_count": 5,
   "metadata": {},
   "outputs": [
    {
     "name": "stdout",
     "output_type": "stream",
     "text": [
      "[0.  1.  0.7]\n"
     ]
    },
    {
     "data": {
      "text/plain": [
       "[1,\n",
       " 0.9978013993,\n",
       " 0.9906778508125749,\n",
       " 0.9788328525423524,\n",
       " 0.962599426984809,\n",
       " 0.9424172462251362,\n",
       " 0.9188041419446277,\n",
       " 0.8923252719910774,\n",
       " 0.8635630697982724,\n",
       " 0.8330905072947346,\n",
       " 0.8014493517512088,\n",
       " 0.7691341984282644,\n",
       " 0.7365822769567809,\n",
       " 0.7041684541283808,\n",
       " 0.672204514938789,\n",
       " 0.6409416726301748,\n",
       " 0.6105752853674382,\n",
       " 0.5812508836312268,\n",
       " 0.5530707867791633,\n",
       " 0.5261007709814358]"
      ]
     },
     "execution_count": 5,
     "metadata": {},
     "output_type": "execute_result"
    }
   ],
   "source": [
    "NSOPDE.General_Explicit(3,[0.5,0.3,0.2],[[0,0,0],[1,0,0],[0.5,0.2,0]],20,F=h,y_init=1)"
   ]
  }
 ],
 "metadata": {
  "kernelspec": {
   "display_name": "Python 3",
   "language": "python",
   "name": "python3"
  },
  "language_info": {
   "codemirror_mode": {
    "name": "ipython",
    "version": 3
   },
   "file_extension": ".py",
   "mimetype": "text/x-python",
   "name": "python",
   "nbconvert_exporter": "python",
   "pygments_lexer": "ipython3",
   "version": "3.7.7"
  }
 },
 "nbformat": 4,
 "nbformat_minor": 2
}
